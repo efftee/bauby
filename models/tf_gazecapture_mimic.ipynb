{
 "cells": [
  {
   "cell_type": "code",
   "execution_count": 1,
   "metadata": {
    "collapsed": true
   },
   "outputs": [],
   "source": [
    "import tensorflow as tf"
   ]
  },
  {
   "cell_type": "code",
   "execution_count": 2,
   "metadata": {
    "collapsed": true
   },
   "outputs": [],
   "source": [
    "import numpy as np\n",
    "import cv2"
   ]
  },
  {
   "cell_type": "code",
   "execution_count": 1,
   "metadata": {
    "collapsed": true
   },
   "outputs": [],
   "source": [
    "import glob"
   ]
  },
  {
   "cell_type": "code",
   "execution_count": 3,
   "metadata": {
    "collapsed": true
   },
   "outputs": [],
   "source": [
    "# batch_size = 256"
   ]
  },
  {
   "cell_type": "code",
   "execution_count": 40,
   "metadata": {
    "collapsed": true
   },
   "outputs": [],
   "source": [
    "def conv_net(data, variable_scope, reuse, name_appendix):\n",
    "    with tf.variable_scope(variable_scope, reuse=reuse):\n",
    "        conv1 = tf.layers.conv2d(\n",
    "            image_left, filters=96, kernel_size=11,\n",
    "            strides=4, padding='VALID', activation=tf.nn.relu,\n",
    "            name='conv1')\n",
    "        conv1 = tf.layers.max_pooling2d(conv1, pool_size=3, strides=2,\n",
    "                                       padding='VALID')\n",
    "        conv1 = tf.nn.local_response_normalization(conv1, depth_radius=5, bias=1,\n",
    "                                                  alpha=0.0001, beta=0.75)\n",
    "        conv2 = tf.layers.conv2d(conv1, filters=256, kernel_size=5,\n",
    "                                strides=1, padding='SAME', activation=tf.nn.relu,\n",
    "                                name='conv2')\n",
    "        conv2 = tf.layers.max_pooling2d(conv2, pool_size=3, strides=2,\n",
    "                                       padding='VALID')\n",
    "        conv2 = tf.nn.local_response_normalization(conv2, depth_radius=5,\n",
    "                                                  bias=1, alpha=0.0001, beta=0.75)\n",
    "        conv3 = tf.layers.conv2d(conv2, filters=384, kernel_size=3,\n",
    "                                strides=1, padding='SAME', activation=tf.nn.relu,\n",
    "                                name='conv3')\n",
    "    conv4 = tf.layers.conv2d(conv3, filters=64, kernel_size=1,\n",
    "                            strides=1, padding='VALID', activation=tf.nn.relu,\n",
    "                            name='conv4'+'_'+name_appendix)\n",
    "    conv4 = tf.contrib.layers.flatten(conv4)\n",
    "    return conv4"
   ]
  },
  {
   "cell_type": "code",
   "execution_count": 41,
   "metadata": {
    "collapsed": true
   },
   "outputs": [],
   "source": [
    "def facegrid_net(data):\n",
    "    flatten = tf.contrib.layers.flatten(data)\n",
    "    fg_fc1 = tf.layers.dense(\n",
    "        flatten, 256, activation=tf.nn.relu,                            \n",
    "        kernel_initializer=tf.truncated_normal_initializer(mean=0, stddev=0.005),\n",
    "        bias_initializer=tf.constant_initializer(1),\n",
    "        name='fg_fc1'\n",
    "    )\n",
    "    fg_fc2 = tf.layers.dense(fg_fc1, 128, activation=tf.nn.relu,\n",
    "                            name='fg_fc2')\n",
    "    return fg_fc2"
   ]
  },
  {
   "cell_type": "code",
   "execution_count": 43,
   "metadata": {
    "collapsed": true
   },
   "outputs": [],
   "source": [
    "tf.reset_default_graph()\n",
    "graph = tf.Graph()\n",
    "with graph.as_default():\n",
    "    # Add multiple inputs\n",
    "    image_left = tf.placeholder(tf.float32, (None, 224, 224, 3), name='image_left') # Channel first or last?\n",
    "    image_right = tf.placeholder(tf.float32, (None, 224, 224, 3), name='image_right')\n",
    "    image_face = tf.placeholder(tf.float32, (None, 224, 224, 3), name='image_face')\n",
    "    facegrid = tf.placeholder(tf.float32, (None, 1, 1, 625), name='facegrid')\n",
    "    \n",
    "    # Eyes\n",
    "    conv4_left = conv_net(image_left, 'eye_conv_net', reuse=False,\n",
    "                         name_appendix='l')\n",
    "    conv4_right = conv_net(image_right, 'eye_conv_net', reuse=True,\n",
    "                          name_appendix='r')\n",
    "    concat1 = tf.concat([conv4_left, conv4_right], 1)\n",
    "    fc1 = tf.layers.dense(concat1, 128, activation=tf.nn.relu,\n",
    "                         name='fc1')\n",
    "    \n",
    "    # Face\n",
    "    conv4_face = conv_net(image_face, 'face_conv_net', reuse=None,\n",
    "                         name_appendix='f')\n",
    "    # Flatten first?\n",
    "    fc1_f = tf.layers.dense(conv4_face, 128, activation=tf.nn.relu,\n",
    "                            name='fc1_f')\n",
    "    fc2_f = tf.layers.dense(fc1_f, 64, activation=tf.nn.relu,\n",
    "                            name='fc2_f')\n",
    "    \n",
    "    # FaceGrid\n",
    "    fg_fc2 = facegrid_net(facegrid)\n",
    "    \n",
    "    concat2 = tf.concat([fc1, fg_fc2, fc2_f], axis=1)\n",
    "    fc2 = tf.layers.dense(concat2, 128, activation=tf.nn.relu,\n",
    "                         name='fc2')\n",
    "    fc3 = tf.layers.dense(fc2, 2, name='fc3')"
   ]
  },
  {
   "cell_type": "code",
   "execution_count": 44,
   "metadata": {
    "collapsed": true
   },
   "outputs": [],
   "source": [
    "section_name_map = {'l': 'eye_conv_net',\n",
    "                    'r': 'eye_conv_net',\n",
    "                    'f': 'face_conv_net'}\n",
    "\n",
    "\n",
    "def load_external_variables(directory_path):\n",
    "    # conv{x}_{y} -> different mapping\n",
    "    # read all file names\n",
    "    \n",
    "    file_name = '' # without .npy\n",
    "    \n",
    "def file_2_variable(file_name):\n",
    "    name_parts = file_name.strip().split('_')\n",
    "    if int(name_parts.pop()) == 0:\n",
    "        variable_type = 'kernel'\n",
    "    else:\n",
    "        variable_type = 'bias'\n",
    "    if len(name_parts) == 2:\n",
    "        # section name could be 'f', 'l', 'r', 'fg' \n",
    "        # with 'fg', the order is reversed\n",
    "        layer_type, section_name = name_part\n",
    "        if layer_type = 'fg':\n",
    "            layer_type = name_part.join('_')\n",
    "        variable_scope = section_name_map.get(section_name)\n",
    "        if variable_scope is not None:\n",
    "            new_name = '{}/{}/{}:0'.format(variable_scope,\n",
    "                                          layer_type,\n",
    "                                          variable_type)\n",
    "        else:\n",
    "            new_name = '{}/{}:0'.format(layer_type,\n",
    "                                        variable_type)\n",
    "    else:\n",
    "        new_name = '{}/{}:0'.format(name_part[0],\n",
    "                                   variable_type)\n",
    "    "
   ]
  },
  {
   "cell_type": "code",
   "execution_count": 45,
   "metadata": {},
   "outputs": [
    {
     "name": "stdout",
     "output_type": "stream",
     "text": [
      "['eye_conv_net/conv1/kernel:0', 'eye_conv_net/conv1/bias:0', 'eye_conv_net/conv2/kernel:0', 'eye_conv_net/conv2/bias:0', 'eye_conv_net/conv3/kernel:0', 'eye_conv_net/conv3/bias:0', 'conv4_l/kernel:0', 'conv4_l/bias:0', 'conv4_r/kernel:0', 'conv4_r/bias:0', 'fc1/kernel:0', 'fc1/bias:0', 'face_conv_net/conv1/kernel:0', 'face_conv_net/conv1/bias:0', 'face_conv_net/conv2/kernel:0', 'face_conv_net/conv2/bias:0', 'face_conv_net/conv3/kernel:0', 'face_conv_net/conv3/bias:0', 'conv4_f/kernel:0', 'conv4_f/bias:0', 'fc1_f/kernel:0', 'fc1_f/bias:0', 'fc2_f/kernel:0', 'fc2_f/bias:0', 'fg_fc1/kernel:0', 'fg_fc1/bias:0', 'fg_fc2/kernel:0', 'fg_fc2/bias:0', 'fc2/kernel:0', 'fc2/bias:0', 'fc3/kernel:0', 'fc3/bias:0']\n"
     ]
    }
   ],
   "source": [
    "with tf.Session(graph=graph) as sess:\n",
    "    sess.run(tf.global_variables_initializer())\n",
    "    #print([var.name for var in tf.global_variables()])"
   ]
  },
  {
   "cell_type": "code",
   "execution_count": null,
   "metadata": {
    "collapsed": true
   },
   "outputs": [],
   "source": [
    "tf.get_variable('')"
   ]
  },
  {
   "cell_type": "code",
   "execution_count": null,
   "metadata": {
    "collapsed": true
   },
   "outputs": [],
   "source": [
    "def predict():\n",
    "    pass"
   ]
  }
 ],
 "metadata": {
  "kernelspec": {
   "display_name": "Python 3",
   "language": "python",
   "name": "python3"
  },
  "language_info": {
   "codemirror_mode": {
    "name": "ipython",
    "version": 3
   },
   "file_extension": ".py",
   "mimetype": "text/x-python",
   "name": "python",
   "nbconvert_exporter": "python",
   "pygments_lexer": "ipython3",
   "version": "3.6.1"
  }
 },
 "nbformat": 4,
 "nbformat_minor": 2
}
